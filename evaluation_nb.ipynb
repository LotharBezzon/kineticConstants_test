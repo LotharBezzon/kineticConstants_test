{
 "cells": [
  {
   "cell_type": "code",
   "execution_count": null,
   "id": "d590b092",
   "metadata": {},
   "outputs": [],
   "source": [
    "import torch\n",
    "from model import EdgePredictorGNN\n",
    "from prepare_data import train_loader, val_loader"
   ]
  },
  {
   "cell_type": "code",
   "execution_count": null,
   "id": "838f6677",
   "metadata": {},
   "outputs": [],
   "source": [
    "import numpy as np\n",
    "\n",
    "for batch in train_loader:\n",
    "    data = batch\n",
    "    break\n",
    "#torch.cat((val_preds[0:100], val_targets[0:100]), dim=1)\n",
    "row, col = data.edge_index\n",
    "test_x = np.linspace(0, 1001, 1000)\n",
    "test_x[row]"
   ]
  },
  {
   "cell_type": "code",
   "execution_count": null,
   "id": "73f8b5bd",
   "metadata": {},
   "outputs": [],
   "source": [
    "best_model = 4  # Change this to load a different epoch\n",
    "\n",
    "device = torch.device('cuda' if torch.cuda.is_available() else 'cpu')\n",
    "in_channels = 2\n",
    "hidden_channels = 64\n",
    "edge_out_channels = 1\n",
    "\n",
    "# Load model\n",
    "model = EdgePredictorGNN(in_channels, hidden_channels, edge_out_channels).to(device)\n",
    "model.load_state_dict(torch.load(f\"model_epoch_{best_model}.pt\", map_location=device))\n",
    "model.eval()\n",
    "\n",
    "def predict(loader, name):\n",
    "\tall_preds = []\n",
    "\tall_targets = []\n",
    "\twith torch.no_grad():\n",
    "\t\tfor batch in loader:\n",
    "\t\t\tbatch = batch.to(device)\n",
    "\t\t\tpred = model(batch)\n",
    "\t\t\tall_preds.append(pred.cpu())\n",
    "\t\t\tall_targets.append(batch.edge_attr.cpu())\n",
    "\tpreds = torch.cat(all_preds, dim=0)\n",
    "\ttargets = torch.cat(all_targets, dim=0)\n",
    "\tmse = torch.mean((preds - targets) ** 2).item()\n",
    "\tprint(f\"{name} set: MSE = {mse:.6f}\")\n",
    "\treturn preds, targets\n",
    "\n",
    "print(\"Evaluating model...\")\n",
    "train_preds, train_targets = predict(train_loader, \"Train\")\n",
    "val_preds, val_targets = predict(val_loader, \"Validation\")\n"
   ]
  },
  {
   "cell_type": "code",
   "execution_count": null,
   "id": "c0a13392",
   "metadata": {},
   "outputs": [],
   "source": [
    "import matplotlib.pyplot as plt\n",
    "\n",
    "plt.scatter(train_targets[2::9], train_preds[2::9], s=0.005)\n",
    "plt.show()\n",
    "\n",
    "plt.scatter(val_targets[2::9], val_preds[2::9], s=0.005)\n",
    "plt.show()"
   ]
  },
  {
   "cell_type": "code",
   "execution_count": null,
   "id": "94b55af8",
   "metadata": {},
   "outputs": [],
   "source": [
    "# 9 subplots: scatter for each edge type (assuming 9 edge types)\n",
    "fig, axes = plt.subplots(3, 3, figsize=(15, 12))\n",
    "for i in range(9):\n",
    "    row = i // 3\n",
    "    col = i % 3\n",
    "    axes[row, col].scatter(val_targets[:, i], val_preds[:, i], s=0.5, alpha=0.5)\n",
    "    axes[row, col].set_title(f'Edge {i}')\n",
    "    axes[row, col].set_xlabel('Target')\n",
    "    axes[row, col].set_ylabel('Prediction')\n",
    "plt.tight_layout()\n",
    "plt.show()"
   ]
  },
  {
   "cell_type": "code",
   "execution_count": null,
   "id": "5ab72e9d",
   "metadata": {},
   "outputs": [],
   "source": [
    "import matplotlib.pyplot as plt\n",
    "import numpy as np\n",
    "\n",
    "# Flatten to 1D for overall distribution\n",
    "val_targets_flat = val_targets.cpu().numpy().flatten()\n",
    "val_preds_flat = val_preds.cpu().numpy().flatten()\n",
    "\n",
    "plt.figure(figsize=(8, 4))\n",
    "plt.hist(val_targets_flat, bins=50, alpha=0.5, label='Validation Targets')\n",
    "plt.hist(val_preds_flat, bins=50, alpha=0.5, label='Validation Predictions')\n",
    "plt.xlabel('Value')\n",
    "plt.ylabel('Frequency')\n",
    "plt.title('Distribution of Validation Targets and Predictions')\n",
    "plt.legend()\n",
    "plt.show()"
   ]
  },
  {
   "cell_type": "code",
   "execution_count": null,
   "id": "5d94a0f1",
   "metadata": {},
   "outputs": [],
   "source": [
    "# Histogram for train_preds and train_targets\n",
    "targets_flat = train_targets.cpu().numpy().flatten()\n",
    "preds_flat = train_preds.cpu().numpy().flatten()\n",
    "\n",
    "plt.figure(figsize=(8, 4))\n",
    "plt.hist(targets_flat, bins=50, alpha=0.5, label='Train Targets')\n",
    "plt.hist(preds_flat, bins=50, alpha=0.5, label='Train Predictions')\n",
    "plt.xlabel('Value')\n",
    "plt.ylabel('Frequency')\n",
    "plt.title('Distribution of Train Targets and Predictions')\n",
    "plt.legend()\n",
    "plt.show()"
   ]
  }
 ],
 "metadata": {
  "kernelspec": {
   "display_name": ".venv",
   "language": "python",
   "name": "python3"
  },
  "language_info": {
   "codemirror_mode": {
    "name": "ipython",
    "version": 3
   },
   "file_extension": ".py",
   "mimetype": "text/x-python",
   "name": "python",
   "nbconvert_exporter": "python",
   "pygments_lexer": "ipython3",
   "version": "3.9.7"
  }
 },
 "nbformat": 4,
 "nbformat_minor": 5
}
